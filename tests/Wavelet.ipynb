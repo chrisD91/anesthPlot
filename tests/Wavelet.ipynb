{
 "cells": [
  {
   "cell_type": "code",
   "execution_count": 1,
   "metadata": {
    "autoscroll": false,
    "collapsed": false,
    "ein.hycell": false,
    "ein.tags": "worksheet-0",
    "slideshow": {
     "slide_type": "-"
    }
   },
   "outputs": [],
   "source": [
    "import os"
   ]
  },
  {
   "cell_type": "code",
   "execution_count": 7,
   "metadata": {
    "autoscroll": false,
    "collapsed": false,
    "ein.hycell": false,
    "ein.tags": "worksheet-0",
    "slideshow": {
     "slide_type": "-"
    }
   },
   "outputs": [],
   "source": [
    "from context import record_main as recmain\n",
    "from treatrec import ekg_to_hr"
   ]
  },
  {
   "cell_type": "code",
   "execution_count": 3,
   "metadata": {
    "autoscroll": false,
    "collapsed": false,
    "ein.hycell": false,
    "ein.tags": "worksheet-0",
    "slideshow": {
     "slide_type": "-"
    }
   },
   "outputs": [],
   "source": [
    "def load(tfile = 'M2020_2_4-9_49_5.csv',\n",
    "         wfile = 'M2020_2_4-9_49_5Wave.csv',\n",
    "         dir_loc = '~/enva/clinique/recordings/anesthRecords/onPanelPcRecorded'):\n",
    "    \n",
    "    #files:\n",
    "    if os.path.isfile(tfile):\n",
    "        trend_filename = tfile\n",
    "    else:\n",
    "        trend_filename = os.path.join(dir_loc, tfile)\n",
    "        \n",
    "    if os.path.isfile(wfile):\n",
    "        wave_filename = wfile\n",
    "    else:\n",
    "        wave_filename = os.path.join(dir_loc, wfile)  \n",
    "        \n",
    "    #trends\n",
    "    monitorTrend = recmain.MonitorTrend(trend_filename)\n",
    "    params = recmain.build_param_dico(file=tfile, source='monitorTrend')\n",
    "    #waves\n",
    "    monitorWave = recmain.MonitorWave(wave_filename)\n",
    "    params = recmain.build_param_dico(file=wfile, source='monitorWave')\n",
    "    params['fs'] = float(monitorWave.header['Data Rate (ms)'])*60/1000\n",
    "    params['kind'] = 'as3'\n",
    "    monitorWave.param = params\n",
    "    #remove unnecessary waves\n",
    "    for item in ['wflow', 'wawp', 'wvp']:\n",
    "        del monitorWave.data[item]\n",
    "    return monitorTrend, monitorWave\n"
   ]
  },
  {
   "cell_type": "code",
   "execution_count": 5,
   "metadata": {
    "autoscroll": false,
    "collapsed": false,
    "ein.hycell": false,
    "ein.tags": "worksheet-0",
    "slideshow": {
     "slide_type": "-"
    }
   },
   "outputs": [
    {
     "name": "stdout",
     "output_type": "stream",
     "text": [
      "loading  wave.csv\n"
     ]
    }
   ],
   "source": [
    "monitorTrend, monitorWave = load(tfile='../data/recordingTest/trend.csv',\n",
    "                                 wfile='../data/recordingTest/wave.csv')"
   ]
  },
  {
   "cell_type": "code",
   "execution_count": 10,
   "metadata": {
    "autoscroll": false,
    "collapsed": false,
    "ein.hycell": false,
    "ein.tags": "worksheet-0",
    "slideshow": {
     "slide_type": "-"
    }
   },
   "outputs": [
    {
     "ename": "AttributeError",
     "evalue": "'MonitorTrend' object has no attribute 'show'",
     "output_type": "error",
     "traceback": [
      "\u001b[0;31m---------------------------------------------------------------------------\u001b[0m",
      "\u001b[0;31mAttributeError\u001b[0m                            Traceback (most recent call last)",
      "\u001b[0;32m<ipython-input-10-7d90d7d6c286>\u001b[0m in \u001b[0;36m<module>\u001b[0;34m\u001b[0m\n\u001b[0;32m----> 1\u001b[0;31m \u001b[0mprint\u001b[0m\u001b[0;34m(\u001b[0m\u001b[0mmonitorTrend\u001b[0m\u001b[0;34m.\u001b[0m\u001b[0mshow\u001b[0m\u001b[0;34m)\u001b[0m\u001b[0;34m\u001b[0m\u001b[0;34m\u001b[0m\u001b[0m\n\u001b[0m",
      "\u001b[0;31mAttributeError\u001b[0m: 'MonitorTrend' object has no attribute 'show'"
     ]
    }
   ],
   "source": [
    "monitorTrend."
   ]
  },
  {
   "cell_type": "code",
   "execution_count": 6,
   "metadata": {
    "autoscroll": false,
    "collapsed": false,
    "ein.hycell": false,
    "ein.tags": "worksheet-0",
    "slideshow": {
     "slide_type": "-"
    }
   },
   "outputs": [],
   "source": [
    "params = monitorWave.param"
   ]
  }
 ],
 "metadata": {
  "kernelspec": {
   "argv": [
    "/home/yzerlaut/anaconda3/bin/python",
    "-m",
    "ipykernel_launcher",
    "-f",
    "{connection_file}"
   ],
   "display_name": "Python 3",
   "env": null,
   "interrupt_mode": "signal",
   "language": "python",
   "metadata": null,
   "name": "python3"
  },
  "language_info": {
   "codemirror_mode": {
    "name": "ipython",
    "version": 3
   },
   "file_extension": ".py",
   "mimetype": "text/x-python",
   "name": "python",
   "nbconvert_exporter": "python",
   "pygments_lexer": "ipython3",
   "version": "3.7.3"
  },
  "name": "Wavelet.ipynb"
 },
 "nbformat": 4,
 "nbformat_minor": 2
}
