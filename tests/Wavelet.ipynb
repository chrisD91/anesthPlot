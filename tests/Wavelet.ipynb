{
 "cells": [
  {
   "cell_type": "code",
   "execution_count": 1,
   "metadata": {
    "autoscroll": false,
    "ein.hycell": false,
    "ein.tags": "worksheet-0",
    "slideshow": {
     "slide_type": "-"
    }
   },
   "outputs": [],
   "source": [
    "import os, sys\n",
    "import pandas as pd\n",
    "import numpy as np\n",
    "import matplotlib.pylab as plt\n",
    "%matplotlib inline"
   ]
  },
  {
   "cell_type": "code",
   "execution_count": 2,
   "metadata": {},
   "outputs": [
    {
     "data": {
      "text/plain": [
       "'/home/yzerlaut/work/anesthPlot/tests'"
      ]
     },
     "execution_count": 2,
     "metadata": {},
     "output_type": "execute_result"
    }
   ],
   "source": [
    "pwd"
   ]
  },
  {
   "cell_type": "code",
   "execution_count": 3,
   "metadata": {},
   "outputs": [
    {
     "name": "stdout",
     "output_type": "stream",
     "text": [
      "/home/yzerlaut/work/anesthPlot/src\n"
     ]
    }
   ],
   "source": [
    "cd ../src"
   ]
  },
  {
   "cell_type": "code",
   "execution_count": 4,
   "metadata": {},
   "outputs": [],
   "source": [
    "import wavelet_transform as wavelet"
   ]
  },
  {
   "cell_type": "code",
   "execution_count": 5,
   "metadata": {},
   "outputs": [
    {
     "name": "stdout",
     "output_type": "stream",
     "text": [
      "/home/yzerlaut/work/anesthPlot\n"
     ]
    }
   ],
   "source": [
    "cd .."
   ]
  },
  {
   "cell_type": "code",
   "execution_count": 6,
   "metadata": {
    "autoscroll": false,
    "ein.hycell": false,
    "ein.tags": "worksheet-0",
    "slideshow": {
     "slide_type": "-"
    }
   },
   "outputs": [
    {
     "name": "stdout",
     "output_type": "stream",
     "text": [
      "added /home/yzerlaut/work/anesthPlot  to the path\n",
      "location= /home/yzerlaut/work/anesthPlot\n"
     ]
    }
   ],
   "source": [
    "import record_main as recmain\n",
    "import treatrec as treat\n",
    "from treatrec import ekg_to_hr"
   ]
  },
  {
   "cell_type": "code",
   "execution_count": 7,
   "metadata": {
    "autoscroll": false,
    "ein.hycell": false,
    "ein.tags": "worksheet-0",
    "slideshow": {
     "slide_type": "-"
    }
   },
   "outputs": [],
   "source": [
    "def load(tfile = 'M2020_2_4-9_49_5.csv',\n",
    "         wfile = 'M2020_2_4-9_49_5Wave.csv',\n",
    "         dir_loc = '~/enva/clinique/recordings/anesthRecords/onPanelPcRecorded'):\n",
    "    \n",
    "    #files:\n",
    "    if os.path.isfile(tfile):\n",
    "        trend_filename = tfile\n",
    "    else:\n",
    "        trend_filename = os.path.join(dir_loc, tfile)\n",
    "        \n",
    "    if os.path.isfile(wfile):\n",
    "        wave_filename = wfile\n",
    "    else:\n",
    "        wave_filename = os.path.join(dir_loc, wfile)  \n",
    "        \n",
    "    #trends\n",
    "    monitorTrend = recmain.MonitorTrend(trend_filename)\n",
    "    params = recmain.build_param_dico(file=tfile, source='monitorTrend')\n",
    "    #waves\n",
    "    monitorWave = recmain.MonitorWave(wave_filename)\n",
    "    params = recmain.build_param_dico(file=wfile, source='monitorWave')\n",
    "    params['fs'] = float(monitorWave.header['Data Rate (ms)'])*60/1000\n",
    "    params['kind'] = 'as3'\n",
    "    monitorWave.param = params\n",
    "    #remove unnecessary waves\n",
    "    for item in ['wflow', 'wawp', 'wvp']:\n",
    "        del monitorWave.data[item]\n",
    "    return monitorTrend, monitorWave\n"
   ]
  },
  {
   "cell_type": "code",
   "execution_count": 8,
   "metadata": {
    "autoscroll": false,
    "ein.hycell": false,
    "ein.tags": "worksheet-0",
    "slideshow": {
     "slide_type": "-"
    }
   },
   "outputs": [
    {
     "name": "stdout",
     "output_type": "stream",
     "text": [
      "loading  wave.csv\n"
     ]
    }
   ],
   "source": [
    "monitorTrend, monitorWave = load(tfile='data/recordingTest/trend.csv',\n",
    "                                 wfile='data/recordingTest/wave.csv')"
   ]
  },
  {
   "cell_type": "code",
   "execution_count": 11,
   "metadata": {
    "autoscroll": false,
    "ein.hycell": false,
    "ein.tags": "worksheet-0",
    "slideshow": {
     "slide_type": "-"
    }
   },
   "outputs": [
    {
     "name": "stdout",
     "output_type": "stream",
     "text": [
      "{'item': 1, 'xmin': None, 'xmax': None, 'ymin': 0, 'ymax': None, 'path': '/home/yzerlaut/work/anesthPlot/data', 'unit': 'min', 'save': False, 'memo': False, 'file': 'data/recordingTest/wave.csv', 'source': 'monitorWave', 'fs': 300.0, 'kind': 'as3'}\n"
     ]
    }
   ],
   "source": [
    "params = monitorWave.param\n",
    "print(params)"
   ]
  },
  {
   "cell_type": "code",
   "execution_count": 10,
   "metadata": {
    "autoscroll": false,
    "ein.hycell": false,
    "ein.tags": "worksheet-0",
    "slideshow": {
     "slide_type": "-"
    }
   },
   "outputs": [
    {
     "name": "stdout",
     "output_type": "stream",
     "text": [
      "source = Python port of BaselineWanderRemovalMedian.m from ECG-kit\n",
      "Alex Page, alex.page@rochester.edu\n",
      "https://bitbucket.org/atpage/baselinewanderremoval/src/master/\n"
     ]
    }
   ],
   "source": [
    "ekg_df = pd.DataFrame(monitorWave.data.wekg)*(-1)\n",
    "\n",
    "#low pass filtering\n",
    "ekg_df['wekg_lowpass'] = recmain.wf.fix_baseline_wander(ekg_df.wekg,\n",
    "                                                monitorWave.param['fs'])\n",
    "# beats locations (beat based dataFrame)\n",
    "beat_df = treat.ekg_to_hr.detect_beats(ekg_df.wekg_lowpass, params)\n",
    "#plot\n",
    "figure = treat.ekg_to_hr.plot_beats(ekg_df.wekg_lowpass, beat_df)\n",
    "\n",
    "#fs=300\n",
    "beat_df= treat.ekg_to_hr.compute_rr(beat_df, monitorWave.param)\n",
    "hr_df = treat.ekg_to_hr.interpolate_rr(beat_df)\n"
   ]
  },
  {
   "cell_type": "code",
   "execution_count": 16,
   "metadata": {
    "autoscroll": false,
    "ein.hycell": false,
    "ein.tags": "worksheet-0",
    "slideshow": {
     "slide_type": "-"
    }
   },
   "outputs": [
    {
     "data": {
      "text/plain": [
       "[<matplotlib.lines.Line2D at 0x7f7a3b8f1a20>]"
      ]
     },
     "execution_count": 16,
     "metadata": {},
     "output_type": "execute_result"
    }
   ],
   "source": [
    "plt.plot(beat_df.pLoc, beat_df.rr)"
   ]
  },
  {
   "cell_type": "code",
   "execution_count": 20,
   "metadata": {},
   "outputs": [
    {
     "data": {
      "text/plain": [
       "[<matplotlib.lines.Line2D at 0x7fb1e83d0a90>]"
      ]
     },
     "execution_count": 20,
     "metadata": {},
     "output_type": "execute_result"
    }
   ],
   "source": [
    "plt.plot(hr_df.rrInterpol)"
   ]
  },
  {
   "cell_type": "code",
   "execution_count": 13,
   "metadata": {
    "autoscroll": false,
    "ein.hycell": false,
    "ein.tags": "worksheet-0",
    "slideshow": {
     "slide_type": "-"
    }
   },
   "outputs": [],
   "source": [
    "dt = 1./300.\n",
    "t, data = np.arange(len(hr_df.rrInterpol))*dt, np.array(hr_df.rrInterpol)\n",
    "data = data-data.mean()\n",
    "freqs = np.logspace(-3, 0, 20)\n",
    "coefs = wavelet.my_cwt(data, freqs, dt)"
   ]
  },
  {
   "cell_type": "code",
   "execution_count": 14,
   "metadata": {},
   "outputs": [
    {
     "name": "stdout",
     "output_type": "stream",
     "text": [
      "for freq 0.04Hz, at time 33.3s, the wavelet coef is (61.26585345553567+147.33210487018638j)\n"
     ]
    }
   ],
   "source": [
    "ifreq, itime = 10, 10000\n",
    "print(\"for freq %.2fHz, at time %.1fs, the wavelet coef is %s\" % (freqs[ifreq], t[itime], coefs[ifreq, itime]))"
   ]
  },
  {
   "cell_type": "code",
   "execution_count": 15,
   "metadata": {},
   "outputs": [
    {
     "data": {
      "text/plain": [
       "(96.11577777777778, 1730085)"
      ]
     },
     "execution_count": 15,
     "metadata": {},
     "output_type": "execute_result"
    }
   ],
   "source": [
    "t[-1]/60, len(data)"
   ]
  },
  {
   "cell_type": "code",
   "execution_count": 16,
   "metadata": {},
   "outputs": [
    {
     "data": {
      "text/plain": [
       "103.66666666666667"
      ]
     },
     "execution_count": 16,
     "metadata": {},
     "output_type": "execute_result"
    }
   ],
   "source": [
    "monitorTrend.data.eTimeMin.max()"
   ]
  },
  {
   "cell_type": "code",
   "execution_count": 17,
   "metadata": {
    "autoscroll": false,
    "ein.hycell": false,
    "ein.tags": "worksheet-0",
    "slideshow": {
     "slide_type": "-"
    }
   },
   "outputs": [],
   "source": [
    "def time_freq_plot(t, freqs, data, coefs):\n",
    "    \"\"\"\n",
    "    a plot to illustrate the output of the wavelet analysis\n",
    "    \"\"\"\n",
    "    dt = t[1]-t[0]\n",
    "\n",
    "    fig = plt.figure(figsize=(8,5))\n",
    "    plt.subplots_adjust(wspace=.8, hspace=.5, bottom=.2)\n",
    "    # signal plot\n",
    "    plt.subplot2grid((3, 8), (0,0), colspan=6)\n",
    "    plt.plot(t, data, 'k-', lw=2)\n",
    "    plt.ylabel('signal')\n",
    "    plt.xlim([t[0], t[-1]])\n",
    "    # time frequency power plot\n",
    "    ax1 = plt.subplot2grid((3, 8), (1,0), rowspan=2, colspan=6)\n",
    "    c = plt.contourf(t, freqs, coefs, cmap='PRGn', aspect='auto')\n",
    "    plt.xlabel('time (ms)')\n",
    "    plt.ylabel('frequency (Hz)')\n",
    "    plt.yscale('log')\n",
    "    # inset with legend\n",
    "    acb = plt.axes([.8, .7, .02, .2])\n",
    "    plt.colorbar(c, cax=acb, label='coeffs (a.u.)', ticks=[-1, 0, 1])\n",
    "    # mean power plot over intervals\n",
    "    plt.subplot2grid((3, 8), (1, 6), rowspan=2)\n",
    "    plt.barh(freqs, np.power(coefs,2).mean(axis=1)*dt)\n",
    "    plt.xticks([]);\n",
    "    plt.xlabel(' mean \\n power \\n (a.u.)')\n",
    "    # max of power over intervals\n",
    "    plt.subplot2grid((3, 8), (1, 7), rowspan=2)\n",
    "    plt.barh(freqs, np.power(coefs,2).max(axis=1)*dt)\n",
    "    plt.xticks([]);\n",
    "    plt.xlabel(' max. \\n power \\n (a.u.)');\n",
    "    return fig"
   ]
  },
  {
   "cell_type": "code",
   "execution_count": 18,
   "metadata": {},
   "outputs": [
    {
     "data": {
      "text/plain": [
       "16.666666666666668"
      ]
     },
     "execution_count": 18,
     "metadata": {},
     "output_type": "execute_result"
    }
   ],
   "source": [
    "1./0.001/60"
   ]
  },
  {
   "cell_type": "code",
   "execution_count": 19,
   "metadata": {
    "autoscroll": false,
    "ein.hycell": false,
    "ein.tags": "worksheet-0",
    "slideshow": {
     "slide_type": "-"
    }
   },
   "outputs": [
    {
     "name": "stderr",
     "output_type": "stream",
     "text": [
      "/home/yzerlaut/anaconda3/lib/python3.7/site-packages/numpy/ma/core.py:2788: ComplexWarning: Casting complex values to real discards the imaginary part\n",
      "  order=order, subok=True, ndmin=ndmin)\n",
      "/home/yzerlaut/anaconda3/lib/python3.7/site-packages/ipykernel_launcher.py:16: UserWarning: The following kwargs were not used by contour: 'aspect'\n",
      "  app.launch_new_instance()\n",
      "/home/yzerlaut/anaconda3/lib/python3.7/site-packages/matplotlib/transforms.py:796: ComplexWarning: Casting complex values to real discards the imaginary part\n",
      "  points = np.array(args, dtype=float).reshape(2, 2)\n"
     ]
    }
   ],
   "source": [
    "time_freq_plot(t[::100], freqs, data[::100], coefs[:,::100]);"
   ]
  },
  {
   "cell_type": "code",
   "execution_count": 68,
   "metadata": {},
   "outputs": [
    {
     "data": {
      "text/plain": [
       "1868540    103.807778\n",
       "Name: sec, dtype: float64"
      ]
     },
     "execution_count": 68,
     "metadata": {},
     "output_type": "execute_result"
    }
   ],
   "source": [
    "monitorWave.data.sec[-1:]/60"
   ]
  },
  {
   "cell_type": "code",
   "execution_count": 23,
   "metadata": {},
   "outputs": [
    {
     "name": "stdout",
     "output_type": "stream",
     "text": [
      "loading  wave.csv\n"
     ]
    }
   ],
   "source": [
    "monitorTrend, monitorWave = load(tfile='../data/recordingTest/trend.csv',\n",
    "                                 wfile='../data/recordingTest/wave.csv')\n",
    "ekg_df = pd.DataFrame(monitorWave.data.wekg)*(-1)l"
   ]
  },
  {
   "cell_type": "code",
   "execution_count": 24,
   "metadata": {},
   "outputs": [
    {
     "name": "stdout",
     "output_type": "stream",
     "text": [
      "source = Python port of BaselineWanderRemovalMedian.m from ECG-kit\n",
      "Alex Page, alex.page@rochester.edu\n",
      "https://bitbucket.org/atpage/baselinewanderremoval/src/master/\n"
     ]
    }
   ],
   "source": [
    "#low pass filtering\n",
    "ekg_df['wekg_lowpass'] = recmain.wf.fix_baseline_wander(ekg_df.wekg,\n",
    "                                                monitorWave.param['fs'])"
   ]
  },
  {
   "cell_type": "code",
   "execution_count": 35,
   "metadata": {},
   "outputs": [
    {
     "data": {
      "text/plain": [
       "[<matplotlib.lines.Line2D at 0x7ff523b28ac8>]"
      ]
     },
     "execution_count": 35,
     "metadata": {},
     "output_type": "execute_result"
    },
    {
     "data": {
      "image/png": "[encoded data removed]",
      "text/plain": [
       "<Figure size 432x288 with 1 Axes>"
      ]
     },
     "metadata": {
      "needs_background": "light"
     },
     "output_type": "display_data"
    }
   ],
   "source": [
    "i0, n = 500000, 1000\n",
    "dt = 1./300.\n",
    "plt.plot(np.arange(n)*dt, ekg_df.wekg[i0:][:n])\n",
    "plt.plot(np.arange(n)*dt, ekg_df['wekg_lowpass'][i0:][:n])"
   ]
  },
  {
   "cell_type": "code",
   "execution_count": 29,
   "metadata": {},
   "outputs": [
    {
     "data": {
      "text/plain": [
       "(1868541, 3239)"
      ]
     },
     "execution_count": 29,
     "metadata": {},
     "output_type": "execute_result"
    }
   ],
   "source": [
    "len(ekg_df), len(beat_df)"
   ]
  },
  {
   "cell_type": "code",
   "execution_count": 28,
   "metadata": {},
   "outputs": [],
   "source": [
    "#fs=300\n",
    "beat_df= treat.ekg_to_hr.compute_rr(beat_df, monitorWave.param)"
   ]
  },
  {
   "cell_type": "code",
   "execution_count": 57,
   "metadata": {},
   "outputs": [
    {
     "data": {
      "text/plain": [
       "1690.0"
      ]
     },
     "execution_count": 57,
     "metadata": {},
     "output_type": "execute_result"
    }
   ],
   "source": [
    "i_rr = np.argmin((beat_df.pLoc-i0)**2)\n",
    "beat_df.rr[i_rr]"
   ]
  },
  {
   "cell_type": "code",
   "execution_count": 53,
   "metadata": {},
   "outputs": [
    {
     "data": {
      "text/plain": [
       "0"
      ]
     },
     "execution_count": 53,
     "metadata": {},
     "output_type": "execute_result"
    }
   ],
   "source": [
    "np.sum(beat_df.pLoc==i0-1)"
   ]
  },
  {
   "cell_type": "code",
   "execution_count": 77,
   "metadata": {},
   "outputs": [],
   "source": [
    "\n",
    "#fs=300\n",
    "beat_df= treat.ekg_to_hr.compute_rr(beat_df, monitorWave.param)\n",
    "hr_df = treat.ekg_to_hr.interpolate_rr(beat_df)\n"
   ]
  },
  {
   "cell_type": "code",
   "execution_count": 30,
   "metadata": {},
   "outputs": [
    {
     "data": {
      "text/plain": [
       "1730085"
      ]
     },
     "execution_count": 30,
     "metadata": {},
     "output_type": "execute_result"
    }
   ],
   "source": [
    "len(hr_df)"
   ]
  },
  {
   "cell_type": "code",
   "execution_count": null,
   "metadata": {},
   "outputs": [],
   "source": []
  }
 ],
 "metadata": {
  "kernelspec": {
   "display_name": "Python 3",
   "language": "python",
   "name": "python3"
  },
  "language_info": {
   "codemirror_mode": {
    "name": "ipython",
    "version": 3
   },
   "file_extension": ".py",
   "mimetype": "text/x-python",
   "name": "python",
   "nbconvert_exporter": "python",
   "pygments_lexer": "ipython3",
   "version": "3.7.3"
  },
  "name": "Wavelet.ipynb"
 },
 "nbformat": 4,
 "nbformat_minor": 2
}
