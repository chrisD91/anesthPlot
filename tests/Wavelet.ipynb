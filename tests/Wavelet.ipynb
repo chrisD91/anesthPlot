{
 "cells": [
  {
   "cell_type": "code",
   "execution_count": 19,
   "metadata": {
    "autoscroll": false,
    "collapsed": false,
    "ein.hycell": false,
    "ein.tags": "worksheet-0",
    "slideshow": {
     "slide_type": "-"
    }
   },
   "outputs": [],
   "source": [
    "import os\n",
    "import pandas as pd\n"
   ]
  },
  {
   "cell_type": "code",
   "execution_count": 21,
   "metadata": {
    "autoscroll": false,
    "collapsed": false,
    "ein.hycell": false,
    "ein.tags": "worksheet-0",
    "slideshow": {
     "slide_type": "-"
    }
   },
   "outputs": [],
   "source": [
    "from context import record_main as recmain\n",
    "import treatrec as treat\n",
    "from treatrec import ekg_to_hr"
   ]
  },
  {
   "cell_type": "code",
   "execution_count": 3,
   "metadata": {
    "autoscroll": false,
    "collapsed": false,
    "ein.hycell": false,
    "ein.tags": "worksheet-0",
    "slideshow": {
     "slide_type": "-"
    }
   },
   "outputs": [],
   "source": [
    "def load(tfile = 'M2020_2_4-9_49_5.csv',\n",
    "         wfile = 'M2020_2_4-9_49_5Wave.csv',\n",
    "         dir_loc = '~/enva/clinique/recordings/anesthRecords/onPanelPcRecorded'):\n",
    "    \n",
    "    #files:\n",
    "    if os.path.isfile(tfile):\n",
    "        trend_filename = tfile\n",
    "    else:\n",
    "        trend_filename = os.path.join(dir_loc, tfile)\n",
    "        \n",
    "    if os.path.isfile(wfile):\n",
    "        wave_filename = wfile\n",
    "    else:\n",
    "        wave_filename = os.path.join(dir_loc, wfile)  \n",
    "        \n",
    "    #trends\n",
    "    monitorTrend = recmain.MonitorTrend(trend_filename)\n",
    "    params = recmain.build_param_dico(file=tfile, source='monitorTrend')\n",
    "    #waves\n",
    "    monitorWave = recmain.MonitorWave(wave_filename)\n",
    "    params = recmain.build_param_dico(file=wfile, source='monitorWave')\n",
    "    params['fs'] = float(monitorWave.header['Data Rate (ms)'])*60/1000\n",
    "    params['kind'] = 'as3'\n",
    "    monitorWave.param = params\n",
    "    #remove unnecessary waves\n",
    "    for item in ['wflow', 'wawp', 'wvp']:\n",
    "        del monitorWave.data[item]\n",
    "    return monitorTrend, monitorWave\n"
   ]
  },
  {
   "cell_type": "code",
   "execution_count": 5,
   "metadata": {
    "autoscroll": false,
    "collapsed": false,
    "ein.hycell": false,
    "ein.tags": "worksheet-0",
    "slideshow": {
     "slide_type": "-"
    }
   },
   "outputs": [
    {
     "name": "stdout",
     "output_type": "stream",
     "text": [
      "loading  wave.csv\n"
     ]
    }
   ],
   "source": [
    "monitorTrend, monitorWave = load(tfile='../data/recordingTest/trend.csv',\n",
    "                                 wfile='../data/recordingTest/wave.csv')"
   ]
  },
  {
   "cell_type": "code",
   "execution_count": 23,
   "metadata": {
    "autoscroll": false,
    "collapsed": false,
    "ein.hycell": false,
    "ein.tags": "worksheet-0",
    "slideshow": {
     "slide_type": "-"
    }
   },
   "outputs": [
    {
     "name": "stdout",
     "output_type": "stream",
     "text": [
      "{'item': 1, 'xmin': None, 'xmax': None, 'ymin': 0, 'ymax': None, 'path': '/home/yzerlaut/work/anesthPlot/data', 'unit': 'min', 'save': False, 'memo': False, 'file': '../data/recordingTest/wave.csv', 'source': 'monitorWave', 'fs': 300.0, 'kind': 'as3'}\n"
     ]
    }
   ],
   "source": [
    "params = monitorWave.param\n",
    "print(params)"
   ]
  },
  {
   "cell_type": "code",
   "execution_count": 22,
   "metadata": {
    "autoscroll": false,
    "collapsed": false,
    "ein.hycell": false,
    "ein.tags": "worksheet-0",
    "slideshow": {
     "slide_type": "-"
    }
   },
   "outputs": [
    {
     "name": "stdout",
     "output_type": "stream",
     "text": [
      "source = Python port of BaselineWanderRemovalMedian.m from ECG-kit\n",
      "Alex Page, alex.page@rochester.edu\n",
      "https://bitbucket.org/atpage/baselinewanderremoval/src/master/\n"
     ]
    }
   ],
   "source": [
    "#NB data = monitorWave.data\n",
    "# build a dataframe to work with (waves)\n",
    "ekg_df = pd.DataFrame(monitorWave.data.wekg)*(-1)\n",
    "\n",
    "#low pass filtering\n",
    "ekg_df['wekg_lowpass'] = recmain.wf.fix_baseline_wander(ekg_df.wekg,\n",
    "                                                monitorWave.param['fs'])\n",
    "# beats locations (beat based dataFrame)\n",
    "beat_df = treat.ekg_to_hr.detect_beats(ekg_df.wekg_lowpass, params)"
   ]
  },
  {
   "cell_type": "code",
   "execution_count": 25,
   "metadata": {
    "autoscroll": false,
    "collapsed": false,
    "ein.hycell": false,
    "ein.tags": "worksheet-0",
    "slideshow": {
     "slide_type": "-"
    }
   },
   "outputs": [
    {
     "data": {
      "text/html": [
       "<div>\n<style scoped>\n    .dataframe tbody tr th:only-of-type {\n        vertical-align: middle;\n    }\n\n    .dataframe tbody tr th {\n        vertical-align: top;\n    }\n\n    .dataframe thead th {\n        text-align: right;\n    }\n</style>\n<table border=\"1\" class=\"dataframe\">\n  <thead>\n    <tr style=\"text-align: right;\">\n      <th></th>\n      <th>pLoc</th>\n      <th>yLoc</th>\n      <th>prominences</th>\n      <th>left_bases</th>\n      <th>right_bases</th>\n    </tr>\n  </thead>\n  <tbody>\n    <tr>\n      <th>0</th>\n      <td>120086</td>\n      <td>-1.556</td>\n      <td>2.314</td>\n      <td>119427</td>\n      <td>125020</td>\n    </tr>\n    <tr>\n      <th>1</th>\n      <td>121116</td>\n      <td>-0.973</td>\n      <td>1.647</td>\n      <td>120090</td>\n      <td>122216</td>\n    </tr>\n    <tr>\n      <th>2</th>\n      <td>121675</td>\n      <td>-0.732</td>\n      <td>1.126</td>\n      <td>121360</td>\n      <td>121780</td>\n    </tr>\n    <tr>\n      <th>3</th>\n      <td>122183</td>\n      <td>-0.892</td>\n      <td>1.370</td>\n      <td>121360</td>\n      <td>122216</td>\n    </tr>\n    <tr>\n      <th>4</th>\n      <td>122770</td>\n      <td>-0.856</td>\n      <td>1.335</td>\n      <td>122216</td>\n      <td>122795</td>\n    </tr>\n    <tr>\n      <th>5</th>\n      <td>123324</td>\n      <td>-0.965</td>\n      <td>1.357</td>\n      <td>122216</td>\n      <td>124052</td>\n    </tr>\n    <tr>\n      <th>6</th>\n      <td>123882</td>\n      <td>-0.956</td>\n      <td>1.171</td>\n      <td>123749</td>\n      <td>124052</td>\n    </tr>\n    <tr>\n      <th>7</th>\n      <td>124443</td>\n      <td>-1.417</td>\n      <td>2.284</td>\n      <td>120090</td>\n      <td>124581</td>\n    </tr>\n    <tr>\n      <th>8</th>\n      <td>124991</td>\n      <td>-1.453</td>\n      <td>2.368</td>\n      <td>120090</td>\n      <td>125020</td>\n    </tr>\n    <tr>\n      <th>9</th>\n      <td>125542</td>\n      <td>-1.417</td>\n      <td>1.946</td>\n      <td>125020</td>\n      <td>125864</td>\n    </tr>\n    <tr>\n      <th>10</th>\n      <td>126099</td>\n      <td>-1.636</td>\n      <td>2.417</td>\n      <td>125020</td>\n      <td>127822</td>\n    </tr>\n    <tr>\n      <th>11</th>\n      <td>126653</td>\n      <td>-1.459</td>\n      <td>1.863</td>\n      <td>126645</td>\n      <td>127197</td>\n    </tr>\n    <tr>\n      <th>12</th>\n      <td>127207</td>\n      <td>-1.097</td>\n      <td>1.365</td>\n      <td>127197</td>\n      <td>127439</td>\n    </tr>\n    <tr>\n      <th>13</th>\n      <td>127690</td>\n      <td>-1.583</td>\n      <td>2.321</td>\n      <td>127197</td>\n      <td>127822</td>\n    </tr>\n    <tr>\n      <th>14</th>\n      <td>128303</td>\n      <td>-1.203</td>\n      <td>1.924</td>\n      <td>127822</td>\n      <td>128384</td>\n    </tr>\n    <tr>\n      <th>15</th>\n      <td>128610</td>\n      <td>-3.154</td>\n      <td>4.126</td>\n      <td>125020</td>\n      <td>130206</td>\n    </tr>\n    <tr>\n      <th>16</th>\n      <td>130035</td>\n      <td>-0.811</td>\n      <td>2.290</td>\n      <td>129282</td>\n      <td>130206</td>\n    </tr>\n    <tr>\n      <th>17</th>\n      <td>131051</td>\n      <td>-1.140</td>\n      <td>1.457</td>\n      <td>130208</td>\n      <td>131595</td>\n    </tr>\n    <tr>\n      <th>18</th>\n      <td>131605</td>\n      <td>-1.023</td>\n      <td>1.306</td>\n      <td>131595</td>\n      <td>132141</td>\n    </tr>\n    <tr>\n      <th>19</th>\n      <td>132150</td>\n      <td>-1.155</td>\n      <td>1.431</td>\n      <td>130208</td>\n      <td>132685</td>\n    </tr>\n    <tr>\n      <th>20</th>\n      <td>132694</td>\n      <td>-1.225</td>\n      <td>2.017</td>\n      <td>130208</td>\n      <td>133130</td>\n    </tr>\n    <tr>\n      <th>21</th>\n      <td>133243</td>\n      <td>-1.709</td>\n      <td>2.166</td>\n      <td>130208</td>\n      <td>138173</td>\n    </tr>\n    <tr>\n      <th>22</th>\n      <td>133796</td>\n      <td>-1.162</td>\n      <td>1.472</td>\n      <td>133787</td>\n      <td>135432</td>\n    </tr>\n    <tr>\n      <th>23</th>\n      <td>134348</td>\n      <td>-1.091</td>\n      <td>1.387</td>\n      <td>134338</td>\n      <td>134885</td>\n    </tr>\n    <tr>\n      <th>24</th>\n      <td>134894</td>\n      <td>-1.150</td>\n      <td>1.474</td>\n      <td>134338</td>\n      <td>135432</td>\n    </tr>\n    <tr>\n      <th>25</th>\n      <td>135441</td>\n      <td>-1.368</td>\n      <td>1.711</td>\n      <td>135432</td>\n      <td>138173</td>\n    </tr>\n    <tr>\n      <th>26</th>\n      <td>135990</td>\n      <td>-1.284</td>\n      <td>1.549</td>\n      <td>135981</td>\n      <td>136023</td>\n    </tr>\n    <tr>\n      <th>27</th>\n      <td>136543</td>\n      <td>-1.301</td>\n      <td>1.689</td>\n      <td>135981</td>\n      <td>138173</td>\n    </tr>\n    <tr>\n      <th>28</th>\n      <td>137091</td>\n      <td>-1.102</td>\n      <td>1.367</td>\n      <td>137081</td>\n      <td>138173</td>\n    </tr>\n    <tr>\n      <th>29</th>\n      <td>137636</td>\n      <td>-1.048</td>\n      <td>1.363</td>\n      <td>137626</td>\n      <td>138173</td>\n    </tr>\n    <tr>\n      <th>...</th>\n      <td>...</td>\n      <td>...</td>\n      <td>...</td>\n      <td>...</td>\n      <td>...</td>\n    </tr>\n    <tr>\n      <th>3210</th>\n      <td>1834729</td>\n      <td>-2.000</td>\n      <td>2.305</td>\n      <td>1834116</td>\n      <td>1835892</td>\n    </tr>\n    <tr>\n      <th>3211</th>\n      <td>1835284</td>\n      <td>-1.865</td>\n      <td>2.156</td>\n      <td>1835275</td>\n      <td>1835892</td>\n    </tr>\n    <tr>\n      <th>3212</th>\n      <td>1835902</td>\n      <td>-1.866</td>\n      <td>2.148</td>\n      <td>1835892</td>\n      <td>1836487</td>\n    </tr>\n    <tr>\n      <th>3213</th>\n      <td>1836497</td>\n      <td>-2.112</td>\n      <td>2.415</td>\n      <td>1834116</td>\n      <td>1838433</td>\n    </tr>\n    <tr>\n      <th>3214</th>\n      <td>1837093</td>\n      <td>-1.945</td>\n      <td>2.200</td>\n      <td>1837083</td>\n      <td>1838433</td>\n    </tr>\n    <tr>\n      <th>3215</th>\n      <td>1837698</td>\n      <td>-1.874</td>\n      <td>2.152</td>\n      <td>1837689</td>\n      <td>1838265</td>\n    </tr>\n    <tr>\n      <th>3216</th>\n      <td>1838274</td>\n      <td>-1.938</td>\n      <td>2.218</td>\n      <td>1838265</td>\n      <td>1838433</td>\n    </tr>\n    <tr>\n      <th>3217</th>\n      <td>1838868</td>\n      <td>-2.177</td>\n      <td>2.505</td>\n      <td>1834116</td>\n      <td>1847995</td>\n    </tr>\n    <tr>\n      <th>3218</th>\n      <td>1839462</td>\n      <td>-1.826</td>\n      <td>2.152</td>\n      <td>1839453</td>\n      <td>1840054</td>\n    </tr>\n    <tr>\n      <th>3219</th>\n      <td>1840064</td>\n      <td>-1.776</td>\n      <td>2.100</td>\n      <td>1840054</td>\n      <td>1840221</td>\n    </tr>\n    <tr>\n      <th>3220</th>\n      <td>1840658</td>\n      <td>-1.946</td>\n      <td>2.295</td>\n      <td>1840054</td>\n      <td>1841236</td>\n    </tr>\n    <tr>\n      <th>3221</th>\n      <td>1841245</td>\n      <td>-2.068</td>\n      <td>2.448</td>\n      <td>1840054</td>\n      <td>1845392</td>\n    </tr>\n    <tr>\n      <th>3222</th>\n      <td>1841846</td>\n      <td>-1.883</td>\n      <td>2.185</td>\n      <td>1841836</td>\n      <td>1842425</td>\n    </tr>\n    <tr>\n      <th>3223</th>\n      <td>1842435</td>\n      <td>-1.900</td>\n      <td>2.204</td>\n      <td>1842425</td>\n      <td>1843018</td>\n    </tr>\n    <tr>\n      <th>3224</th>\n      <td>1843027</td>\n      <td>-2.017</td>\n      <td>2.361</td>\n      <td>1843018</td>\n      <td>1845392</td>\n    </tr>\n    <tr>\n      <th>3225</th>\n      <td>1843626</td>\n      <td>-2.016</td>\n      <td>2.317</td>\n      <td>1843617</td>\n      <td>1845392</td>\n    </tr>\n    <tr>\n      <th>3226</th>\n      <td>1844216</td>\n      <td>-1.897</td>\n      <td>2.185</td>\n      <td>1844206</td>\n      <td>1845392</td>\n    </tr>\n    <tr>\n      <th>3227</th>\n      <td>1844808</td>\n      <td>-1.887</td>\n      <td>2.203</td>\n      <td>1844799</td>\n      <td>1845392</td>\n    </tr>\n    <tr>\n      <th>3228</th>\n      <td>1845401</td>\n      <td>-2.029</td>\n      <td>2.370</td>\n      <td>1845392</td>\n      <td>1847331</td>\n    </tr>\n    <tr>\n      <th>3229</th>\n      <td>1846001</td>\n      <td>-1.924</td>\n      <td>2.203</td>\n      <td>1845991</td>\n      <td>1847331</td>\n    </tr>\n    <tr>\n      <th>3230</th>\n      <td>1846592</td>\n      <td>-1.909</td>\n      <td>2.244</td>\n      <td>1846157</td>\n      <td>1847331</td>\n    </tr>\n    <tr>\n      <th>3231</th>\n      <td>1847173</td>\n      <td>-1.865</td>\n      <td>2.168</td>\n      <td>1847163</td>\n      <td>1847331</td>\n    </tr>\n    <tr>\n      <th>3232</th>\n      <td>1847769</td>\n      <td>-2.174</td>\n      <td>2.559</td>\n      <td>1840054</td>\n      <td>1847995</td>\n    </tr>\n    <tr>\n      <th>3233</th>\n      <td>1848362</td>\n      <td>-1.831</td>\n      <td>2.083</td>\n      <td>1847995</td>\n      <td>1848951</td>\n    </tr>\n    <tr>\n      <th>3234</th>\n      <td>1849153</td>\n      <td>-3.164</td>\n      <td>5.091</td>\n      <td>130208</td>\n      <td>1849165</td>\n    </tr>\n    <tr>\n      <th>3235</th>\n      <td>1849375</td>\n      <td>-9.249</td>\n      <td>17.022</td>\n      <td>130208</td>\n      <td>1850593</td>\n    </tr>\n    <tr>\n      <th>3236</th>\n      <td>1850479</td>\n      <td>-4.873</td>\n      <td>5.266</td>\n      <td>1850138</td>\n      <td>1850593</td>\n    </tr>\n    <tr>\n      <th>3237</th>\n      <td>1851235</td>\n      <td>-4.029</td>\n      <td>7.440</td>\n      <td>1850593</td>\n      <td>1851476</td>\n    </tr>\n    <tr>\n      <th>3238</th>\n      <td>1851514</td>\n      <td>-5.744</td>\n      <td>9.373</td>\n      <td>1850593</td>\n      <td>1851643</td>\n    </tr>\n    <tr>\n      <th>3239</th>\n      <td>1851760</td>\n      <td>-4.976</td>\n      <td>5.369</td>\n      <td>1851643</td>\n      <td>1852451</td>\n    </tr>\n  </tbody>\n</table>\n<p>3240 rows × 5 columns</p>\n</div>"
      ],
      "text/plain": [
       "         pLoc   yLoc  prominences  left_bases  right_bases\n0      120086 -1.556        2.314      119427       125020\n1      121116 -0.973        1.647      120090       122216\n2      121675 -0.732        1.126      121360       121780\n3      122183 -0.892        1.370      121360       122216\n4      122770 -0.856        1.335      122216       122795\n5      123324 -0.965        1.357      122216       124052\n6      123882 -0.956        1.171      123749       124052\n7      124443 -1.417        2.284      120090       124581\n8      124991 -1.453        2.368      120090       125020\n9      125542 -1.417        1.946      125020       125864\n10     126099 -1.636        2.417      125020       127822\n11     126653 -1.459        1.863      126645       127197\n12     127207 -1.097        1.365      127197       127439\n13     127690 -1.583        2.321      127197       127822\n14     128303 -1.203        1.924      127822       128384\n15     128610 -3.154        4.126      125020       130206\n16     130035 -0.811        2.290      129282       130206\n17     131051 -1.140        1.457      130208       131595\n18     131605 -1.023        1.306      131595       132141\n19     132150 -1.155        1.431      130208       132685\n20     132694 -1.225        2.017      130208       133130\n21     133243 -1.709        2.166      130208       138173\n22     133796 -1.162        1.472      133787       135432\n23     134348 -1.091        1.387      134338       134885\n24     134894 -1.150        1.474      134338       135432\n25     135441 -1.368        1.711      135432       138173\n26     135990 -1.284        1.549      135981       136023\n27     136543 -1.301        1.689      135981       138173\n28     137091 -1.102        1.367      137081       138173\n29     137636 -1.048        1.363      137626       138173\n...       ...    ...          ...         ...          ...\n3210  1834729 -2.000        2.305     1834116      1835892\n3211  1835284 -1.865        2.156     1835275      1835892\n3212  1835902 -1.866        2.148     1835892      1836487\n3213  1836497 -2.112        2.415     1834116      1838433\n3214  1837093 -1.945        2.200     1837083      1838433\n3215  1837698 -1.874        2.152     1837689      1838265\n3216  1838274 -1.938        2.218     1838265      1838433\n3217  1838868 -2.177        2.505     1834116      1847995\n3218  1839462 -1.826        2.152     1839453      1840054\n3219  1840064 -1.776        2.100     1840054      1840221\n3220  1840658 -1.946        2.295     1840054      1841236\n3221  1841245 -2.068        2.448     1840054      1845392\n3222  1841846 -1.883        2.185     1841836      1842425\n3223  1842435 -1.900        2.204     1842425      1843018\n3224  1843027 -2.017        2.361     1843018      1845392\n3225  1843626 -2.016        2.317     1843617      1845392\n3226  1844216 -1.897        2.185     1844206      1845392\n3227  1844808 -1.887        2.203     1844799      1845392\n3228  1845401 -2.029        2.370     1845392      1847331\n3229  1846001 -1.924        2.203     1845991      1847331\n3230  1846592 -1.909        2.244     1846157      1847331\n3231  1847173 -1.865        2.168     1847163      1847331\n3232  1847769 -2.174        2.559     1840054      1847995\n3233  1848362 -1.831        2.083     1847995      1848951\n3234  1849153 -3.164        5.091      130208      1849165\n3235  1849375 -9.249       17.022      130208      1850593\n3236  1850479 -4.873        5.266     1850138      1850593\n3237  1851235 -4.029        7.440     1850593      1851476\n3238  1851514 -5.744        9.373     1850593      1851643\n3239  1851760 -4.976        5.369     1851643      1852451\n\n[3240 rows x 5 columns]"
      ]
     },
     "execution_count": 25,
     "metadata": {},
     "output_type": "execute_result"
    }
   ],
   "source": [
    "beat_df"
   ]
  }
 ],
 "metadata": {
  "kernelspec": {
   "argv": [
    "/home/yzerlaut/anaconda3/bin/python",
    "-m",
    "ipykernel_launcher",
    "-f",
    "{connection_file}"
   ],
   "display_name": "Python 3",
   "env": null,
   "interrupt_mode": "signal",
   "language": "python",
   "metadata": null,
   "name": "python3"
  },
  "language_info": {
   "codemirror_mode": {
    "name": "ipython",
    "version": 3
   },
   "file_extension": ".py",
   "mimetype": "text/x-python",
   "name": "python",
   "nbconvert_exporter": "python",
   "pygments_lexer": "ipython3",
   "version": "3.7.3"
  },
  "name": "Wavelet.ipynb"
 },
 "nbformat": 4,
 "nbformat_minor": 2
}
